{
 "cells": [
  {
   "metadata": {},
   "cell_type": "markdown",
   "source": "# Load the fricking data",
   "id": "7b40f756e0f68d14"
  },
  {
   "cell_type": "code",
   "id": "initial_id",
   "metadata": {
    "collapsed": true,
    "ExecuteTime": {
     "end_time": "2025-02-06T22:03:52.757434Z",
     "start_time": "2025-02-06T22:03:51.849977Z"
    }
   },
   "source": [
    "\n",
    "import numpy as np\n",
    "import pandas as pd\n",
    "from scipy.optimize import minimize\n",
    "\n",
    "# Load new dataset\n",
    "file_path = \"Returns_Data_Cleaned.csv\"  # Updated file path\n",
    "df = pd.read_csv(file_path)\n",
    "\n",
    "# Rename the first column (date column) properly\n",
    "df.rename(columns={'Unnamed: 0': 'Dates'}, inplace=True)\n",
    "\n",
    "# Strip spaces from column names\n",
    "df.columns = df.columns.str.strip()\n",
    "\n",
    "# Convert Date column to DateTime format\n",
    "df = df[df[\"Dates\"].astype(str).str.match(r\"^\\d{6}$\")]  # Keep only YYYYMM format\n",
    "df[\"Dates\"] = pd.to_datetime(df[\"Dates\"], format=\"%Y%m\")\n",
    "\n",
    "# Filter data for the required date range\n",
    "df = df[(df[\"Dates\"] >= \"2019-12-01\") & (df[\"Dates\"] <= \"2024-11-01\")]\n",
    "\n",
    "# Convert returns from percentage format to decimal (divide by 100)\n",
    "df.iloc[:, 1:] = df.iloc[:, 1:].div(100)\n",
    "\n",
    "# Set Date as index\n",
    "df.set_index(\"Dates\", inplace=True)\n"
   ],
   "outputs": [],
   "execution_count": 2
  },
  {
   "metadata": {
    "ExecuteTime": {
     "end_time": "2025-02-06T22:03:52.785930Z",
     "start_time": "2025-02-06T22:03:52.775222Z"
    }
   },
   "cell_type": "code",
   "source": [
    "\n",
    "expected_returns = df.mean() # get historical expected returns\n",
    "cov_matrix = df.cov() # get historical covariance matrix\n",
    "#cov_matrix = cov_matrix.pop(\"Dates\")\n",
    "\n",
    "rf = 0.004  # define monthly risk-free rate\n"
   ],
   "id": "45df38c073dc0afb",
   "outputs": [],
   "execution_count": 3
  },
  {
   "metadata": {},
   "cell_type": "markdown",
   "source": "# Using Minimize (no short-sell)",
   "id": "f04d6e26d913a83c"
  },
  {
   "metadata": {
    "ExecuteTime": {
     "end_time": "2025-02-06T22:03:52.937290Z",
     "start_time": "2025-02-06T22:03:52.864466Z"
    }
   },
   "cell_type": "code",
   "source": [
    "\n",
    "# using minimze, no short-selling\n",
    "\n",
    "# Initial equal weights\n",
    "num_assets = len(expected_returns)\n",
    "init_weights = np.ones(num_assets) / num_assets\n",
    "\n",
    "# Constraints: sum of weights = 1\n",
    "constraints = ({'type': 'eq', 'fun': lambda w: np.sum(w) - 1})\n",
    "\n",
    "def sharpe_ratio(weights, mean_returns, cov_matrix, rf):\n",
    "    port_return = np.dot(weights, mean_returns) - rf\n",
    "    port_volatility = np.sqrt(np.dot(weights.T, np.dot(cov_matrix, weights)))\n",
    "    return -port_return / port_volatility\n",
    "\n",
    "# Bounds: No short-selling (weights between 0 and 1)\n",
    "bounds = [(0, 1) for _ in range(num_assets)]\n",
    "\n",
    "# Solve the constrained optimization\n",
    "result_long = minimize(sharpe_ratio, init_weights, args=(expected_returns, cov_matrix, rf), \n",
    "                       method='SLSQP', constraints=constraints, bounds=bounds)\n",
    "\n",
    "# Extract long-only optimal weights\n",
    "optimal_weights_long = result_long.x\n",
    "\n",
    "# Select top 5 assets (highest weights)\n",
    "top_5_indices_long = np.argsort(optimal_weights_long)[-5:]\n",
    "selected_assets_long = df.columns[top_5_indices_long]\n",
    "\n",
    "# Extract new sub-data\n",
    "sub_returns_long = df[selected_assets_long]\n",
    "sub_expected_returns_long = expected_returns.iloc[top_5_indices_long]\n",
    "sub_cov_matrix_long = cov_matrix.iloc[top_5_indices_long, top_5_indices_long]\n",
    "\n",
    "# Re-optimize for the top 5 assets\n",
    "init_weights_5_long = np.ones(5) / 5\n",
    "result_5_long = minimize(sharpe_ratio, init_weights_5_long, args=(sub_expected_returns_long, sub_cov_matrix_long, rf), \n",
    "                         method='SLSQP', constraints={'type': 'eq', 'fun': lambda w: np.sum(w) - 1}, bounds=[(0, 1)] * 5)\n",
    "\n",
    "optimal_weights_5_long = result_5_long.x\n",
    "\n",
    "print(\"\\nTop 5 Assets (no-short selling):\")\n",
    "for asset, weight in zip(selected_assets_long, optimal_weights_5_long):\n",
    "    print(f\"{asset}: {weight:.4f}\")\n"
   ],
   "id": "e9c667131a8e2a2e",
   "outputs": [
    {
     "name": "stdout",
     "output_type": "stream",
     "text": [
      "\n",
      "Top 5 Assets (no-short selling):\n",
      "Soda: 0.0000\n",
      "Agric: 0.0435\n",
      "Guns: 0.1402\n",
      "Coal: 0.2177\n",
      "Chips: 0.5986\n"
     ]
    }
   ],
   "execution_count": 4
  },
  {
   "metadata": {
    "ExecuteTime": {
     "end_time": "2025-02-06T22:03:53.022544Z",
     "start_time": "2025-02-06T22:03:53.020075Z"
    }
   },
   "cell_type": "code",
   "source": "",
   "id": "f6d91ec6a4187d4c",
   "outputs": [],
   "execution_count": null
  },
  {
   "metadata": {},
   "cell_type": "markdown",
   "source": "# Quadratic Programming (no short-sell)",
   "id": "5b64449ae6ff6adb"
  },
  {
   "metadata": {
    "ExecuteTime": {
     "end_time": "2025-02-06T22:03:57.041223Z",
     "start_time": "2025-02-06T22:03:53.185789Z"
    }
   },
   "cell_type": "code",
   "source": [
    "# quadratic programming to solve for no-short selling case\n",
    "import cvxpy as cp\n",
    "\n",
    "def max_sharpe_qp(mean_returns, cov_matrix, rf):\n",
    "    num_assets = len(mean_returns)\n",
    "    \n",
    "    # Define optimization variables\n",
    "    w = cp.Variable(num_assets)\n",
    "    \n",
    "    # Portfolio return and volatility\n",
    "    port_return = (mean_returns - rf) @ w\n",
    "    port_volatility = cp.sqrt(cp.quad_form(w, cov_matrix))\n",
    "    \n",
    "    # Sharpe ratio maximization (Equivalent to minimizing -SR)\n",
    "    objective = cp.Maximize(port_return / port_volatility)\n",
    "    \n",
    "    # Constraints\n",
    "    constraints = [cp.sum(w) == 1, w >= 0]\n",
    "    \n",
    "    # Solve QP\n",
    "    prob = cp.Problem(objective, constraints)\n",
    "    prob.solve()\n",
    "    \n",
    "    return w.value  # Optimal weights\n",
    "\n",
    "# Compute optimal weights\n",
    "optimal_weights_qp = max_sharpe_qp(expected_returns, cov_matrix, rf)\n",
    "\n",
    "# Select top 5 assets\n",
    "top_5_indices_qp = np.argsort(optimal_weights_qp)[-5:]\n",
    "selected_assets_qp = df.columns[top_5_indices_qp]\n",
    "\n",
    "# Print results\n",
    "print(\"\\nTop 5 Assets (Long-Only, QP) with Weights:\")\n",
    "for asset, weight in zip(selected_assets_qp, optimal_weights_qp[top_5_indices_qp]):\n",
    "    print(f\"{asset}: {weight:.4f}\")\n"
   ],
   "id": "152b54e75dcdfc0c",
   "outputs": [
    {
     "ename": "IndexError",
     "evalue": "tuple index out of range",
     "output_type": "error",
     "traceback": [
      "\u001B[0;31m---------------------------------------------------------------------------\u001B[0m",
      "\u001B[0;31mIndexError\u001B[0m                                Traceback (most recent call last)",
      "Cell \u001B[0;32mIn[5], line 27\u001B[0m\n\u001B[1;32m     24\u001B[0m     \u001B[38;5;28;01mreturn\u001B[39;00m w\u001B[38;5;241m.\u001B[39mvalue  \u001B[38;5;66;03m# Optimal weights\u001B[39;00m\n\u001B[1;32m     26\u001B[0m \u001B[38;5;66;03m# Compute optimal weights\u001B[39;00m\n\u001B[0;32m---> 27\u001B[0m optimal_weights_qp \u001B[38;5;241m=\u001B[39m \u001B[43mmax_sharpe_qp\u001B[49m\u001B[43m(\u001B[49m\u001B[43mexpected_returns\u001B[49m\u001B[43m,\u001B[49m\u001B[43m \u001B[49m\u001B[43mcov_matrix\u001B[49m\u001B[43m,\u001B[49m\u001B[43m \u001B[49m\u001B[43mrf\u001B[49m\u001B[43m)\u001B[49m\n\u001B[1;32m     29\u001B[0m \u001B[38;5;66;03m# Select top 5 assets\u001B[39;00m\n\u001B[1;32m     30\u001B[0m top_5_indices_qp \u001B[38;5;241m=\u001B[39m np\u001B[38;5;241m.\u001B[39margsort(optimal_weights_qp)[\u001B[38;5;241m-\u001B[39m\u001B[38;5;241m5\u001B[39m:]\n",
      "Cell \u001B[0;32mIn[5], line 11\u001B[0m, in \u001B[0;36mmax_sharpe_qp\u001B[0;34m(mean_returns, cov_matrix, rf)\u001B[0m\n\u001B[1;32m      8\u001B[0m w \u001B[38;5;241m=\u001B[39m cp\u001B[38;5;241m.\u001B[39mVariable(num_assets)\n\u001B[1;32m     10\u001B[0m \u001B[38;5;66;03m# Portfolio return and volatility\u001B[39;00m\n\u001B[0;32m---> 11\u001B[0m port_return \u001B[38;5;241m=\u001B[39m \u001B[43m(\u001B[49m\u001B[43mmean_returns\u001B[49m\u001B[43m \u001B[49m\u001B[38;5;241;43m-\u001B[39;49m\u001B[43m \u001B[49m\u001B[43mrf\u001B[49m\u001B[43m)\u001B[49m\u001B[43m \u001B[49m\u001B[38;5;241;43m@\u001B[39;49m\u001B[43m \u001B[49m\u001B[43mw\u001B[49m\n\u001B[1;32m     12\u001B[0m port_volatility \u001B[38;5;241m=\u001B[39m cp\u001B[38;5;241m.\u001B[39msqrt(cp\u001B[38;5;241m.\u001B[39mquad_form(w, cov_matrix))\n\u001B[1;32m     14\u001B[0m \u001B[38;5;66;03m# Sharpe ratio maximization (Equivalent to minimizing -SR)\u001B[39;00m\n",
      "File \u001B[0;32m~/Documents/PortfolioManagement/ProjectA/.venv/lib/python3.9/site-packages/pandas/core/series.py:3252\u001B[0m, in \u001B[0;36mSeries.__matmul__\u001B[0;34m(self, other)\u001B[0m\n\u001B[1;32m   3248\u001B[0m \u001B[38;5;28;01mdef\u001B[39;00m\u001B[38;5;250m \u001B[39m\u001B[38;5;21m__matmul__\u001B[39m(\u001B[38;5;28mself\u001B[39m, other):\n\u001B[1;32m   3249\u001B[0m \u001B[38;5;250m    \u001B[39m\u001B[38;5;124;03m\"\"\"\u001B[39;00m\n\u001B[1;32m   3250\u001B[0m \u001B[38;5;124;03m    Matrix multiplication using binary `@` operator.\u001B[39;00m\n\u001B[1;32m   3251\u001B[0m \u001B[38;5;124;03m    \"\"\"\u001B[39;00m\n\u001B[0;32m-> 3252\u001B[0m     \u001B[38;5;28;01mreturn\u001B[39;00m \u001B[38;5;28;43mself\u001B[39;49m\u001B[38;5;241;43m.\u001B[39;49m\u001B[43mdot\u001B[49m\u001B[43m(\u001B[49m\u001B[43mother\u001B[49m\u001B[43m)\u001B[49m\n",
      "File \u001B[0;32m~/Documents/PortfolioManagement/ProjectA/.venv/lib/python3.9/site-packages/pandas/core/series.py:3232\u001B[0m, in \u001B[0;36mSeries.dot\u001B[0;34m(self, other)\u001B[0m\n\u001B[1;32m   3230\u001B[0m     lvals \u001B[38;5;241m=\u001B[39m \u001B[38;5;28mself\u001B[39m\u001B[38;5;241m.\u001B[39mvalues\n\u001B[1;32m   3231\u001B[0m     rvals \u001B[38;5;241m=\u001B[39m np\u001B[38;5;241m.\u001B[39masarray(other)\n\u001B[0;32m-> 3232\u001B[0m     \u001B[38;5;28;01mif\u001B[39;00m lvals\u001B[38;5;241m.\u001B[39mshape[\u001B[38;5;241m0\u001B[39m] \u001B[38;5;241m!=\u001B[39m \u001B[43mrvals\u001B[49m\u001B[38;5;241;43m.\u001B[39;49m\u001B[43mshape\u001B[49m\u001B[43m[\u001B[49m\u001B[38;5;241;43m0\u001B[39;49m\u001B[43m]\u001B[49m:\n\u001B[1;32m   3233\u001B[0m         \u001B[38;5;28;01mraise\u001B[39;00m \u001B[38;5;167;01mException\u001B[39;00m(\n\u001B[1;32m   3234\u001B[0m             \u001B[38;5;124mf\u001B[39m\u001B[38;5;124m\"\u001B[39m\u001B[38;5;124mDot product shape mismatch, \u001B[39m\u001B[38;5;132;01m{\u001B[39;00mlvals\u001B[38;5;241m.\u001B[39mshape\u001B[38;5;132;01m}\u001B[39;00m\u001B[38;5;124m vs \u001B[39m\u001B[38;5;132;01m{\u001B[39;00mrvals\u001B[38;5;241m.\u001B[39mshape\u001B[38;5;132;01m}\u001B[39;00m\u001B[38;5;124m\"\u001B[39m\n\u001B[1;32m   3235\u001B[0m         )\n\u001B[1;32m   3237\u001B[0m \u001B[38;5;28;01mif\u001B[39;00m \u001B[38;5;28misinstance\u001B[39m(other, ABCDataFrame):\n",
      "\u001B[0;31mIndexError\u001B[0m: tuple index out of range"
     ]
    }
   ],
   "execution_count": 5
  },
  {
   "metadata": {},
   "cell_type": "markdown",
   "source": "# Analytical Markowitz solution (short-sell)",
   "id": "1527136312c46ba7"
  },
  {
   "metadata": {
    "ExecuteTime": {
     "end_time": "2025-02-06T23:04:32.471466Z",
     "start_time": "2025-02-06T23:04:32.449549Z"
    }
   },
   "cell_type": "code",
   "source": [
    "# with short-selling, using analytical solution\n",
    "\n",
    "def max_sharpe_markowitz(mean_returns, cov_matrix, rf):\n",
    "    excess_returns = mean_returns - rf\n",
    "    inv_cov = np.linalg.inv(cov_matrix)\n",
    "    \n",
    "    # Optimal weights (analytical solution)\n",
    "    w_star = inv_cov @ excess_returns\n",
    "    w_star /= np.sum(w_star)  # Normalize to sum to 1\n",
    "    \n",
    "    return w_star\n",
    "\n",
    "# Compute optimal weights (unconstrained)\n",
    "optimal_weights_mv = max_sharpe_markowitz(expected_returns, cov_matrix, rf)\n",
    "\n",
    "# Select top 5 assets\n",
    "top_5_indices_mv = np.argsort(np.abs(optimal_weights_mv))[-5:]\n",
    "selected_assets_mv = df.columns[top_5_indices_mv]\n",
    "\n",
    "# Print results\n",
    "print(\"\\nTop 5 Assets (Unconstrained, Markowitz) with Weights:\")\n",
    "for asset, weight in zip(selected_assets_mv, optimal_weights_mv[top_5_indices_mv]):\n",
    "    print(f\"{asset}: {weight:.4f}\")\n"
   ],
   "id": "648115ddad482164",
   "outputs": [
    {
     "name": "stdout",
     "output_type": "stream",
     "text": [
      "\n",
      "Top 5 Assets (Unconstrained, Markowitz) with Weights:\n",
      "Trans: -0.8355\n",
      "Insur: 0.8463\n",
      "Util: 0.8929\n",
      "Chems: -1.3089\n",
      "Mach: 1.6783\n"
     ]
    }
   ],
   "execution_count": 13
  },
  {
   "metadata": {
    "ExecuteTime": {
     "end_time": "2025-02-06T23:03:15.275024Z",
     "start_time": "2025-02-06T23:03:15.207692Z"
    }
   },
   "cell_type": "code",
   "source": [
    "import numpy as np\n",
    "import pandas as pd\n",
    "from scipy.optimize import minimize\n",
    "\n",
    "# Assume expected_returns and cov_matrix are already defined\n",
    "rf = 0.02 / 12  # Risk-free rate (monthly)\n",
    "\n",
    "# Function: Analytical Markowitz solution (with short selling allowed)\n",
    "def max_sharpe_markowitz(mean_returns, cov_matrix, rf):\n",
    "    excess_returns = mean_returns - rf\n",
    "    inv_cov = np.linalg.inv(cov_matrix)\n",
    "    \n",
    "    # Optimal weights (analytical solution)\n",
    "    w_star = inv_cov @ excess_returns\n",
    "    w_star /= np.sum(w_star)  # Normalize to sum to 1\n",
    "    \n",
    "    return w_star\n",
    "\n",
    "# Compute optimal weights (unconstrained)\n",
    "optimal_weights_mv = max_sharpe_markowitz(expected_returns, cov_matrix, rf)\n",
    "\n",
    "# Select top 5 assets (highest absolute weights)\n",
    "top_5_indices_mv = np.argsort(np.abs(optimal_weights_mv))[-5:]\n",
    "selected_assets_mv = df.columns[top_5_indices_mv]\n",
    "selected_weights_mv = optimal_weights_mv[top_5_indices_mv]\n",
    "\n",
    "# Create DataFrame for Short-Selling Allowed\n",
    "df_short_selling = pd.DataFrame({\n",
    "    \"Industry\": selected_assets_mv,\n",
    "    \"Weights\": selected_weights_mv\n",
    "})\n",
    "\n",
    "# --- NO SHORT-SELLING CASE ---\n",
    "\n",
    "# Initial equal weights\n",
    "num_assets = len(expected_returns)\n",
    "init_weights = np.ones(num_assets) / num_assets\n",
    "\n",
    "# Constraints: sum of weights = 1\n",
    "constraints = ({'type': 'eq', 'fun': lambda w: np.sum(w) - 1})\n",
    "\n",
    "def sharpe_ratio(weights, mean_returns, cov_matrix, rf):\n",
    "    port_return = np.dot(weights, mean_returns) - rf\n",
    "    port_volatility = np.sqrt(np.dot(weights.T, np.dot(cov_matrix, weights)))\n",
    "    return -port_return / port_volatility\n",
    "\n",
    "# Bounds: No short-selling (weights between 0 and 1)\n",
    "bounds = [(0, 1) for _ in range(num_assets)]\n",
    "\n",
    "# Solve the constrained optimization\n",
    "result_long = minimize(sharpe_ratio, init_weights, args=(expected_returns, cov_matrix, rf), \n",
    "                       method='SLSQP', constraints=constraints, bounds=bounds)\n",
    "\n",
    "# Extract long-only optimal weights\n",
    "optimal_weights_long = result_long.x\n",
    "\n",
    "# Select top 5 assets (highest weights)\n",
    "top_5_indices_long = np.argsort(optimal_weights_long)[-5:]\n",
    "selected_assets_long = df.columns[top_5_indices_long]\n",
    "selected_weights_long = optimal_weights_long[top_5_indices_long]\n",
    "\n",
    "# Create DataFrame for No Short-Selling Constraint\n",
    "df_no_short_selling = pd.DataFrame({\n",
    "    \"Industry (Short-Sale Constraint)\": selected_assets_long,\n",
    "    \"Weights (Constraint)\": selected_weights_long\n",
    "})\n",
    "\n",
    "# Display results\n",
    "print(\"\\nTop 5 Assets (Short-Selling Allowed):\")\n",
    "print(df_short_selling)\n",
    "\n",
    "print(\"\\nTop 5 Assets (No Short-Selling):\")\n",
    "print(df_no_short_selling)\n"
   ],
   "id": "e775037917512ab7",
   "outputs": [
    {
     "name": "stdout",
     "output_type": "stream",
     "text": [
      "\n",
      "Top 5 Assets (Short-Selling Allowed):\n",
      "  Industry   Weights\n",
      "0    Trans -0.835505\n",
      "1    Insur  0.846251\n",
      "2     Util  0.892855\n",
      "3    Chems -1.308899\n",
      "4     Mach  1.678349\n",
      "\n",
      "Top 5 Assets (No Short-Selling):\n",
      "  Industry (Short-Sale Constraint)  Weights (Constraint)\n",
      "0                            Smoke              0.001312\n",
      "1                            Agric              0.075095\n",
      "2                             Guns              0.182899\n",
      "3                             Coal              0.191897\n",
      "4                            Chips              0.548797\n"
     ]
    }
   ],
   "execution_count": 12
  },
  {
   "metadata": {
    "ExecuteTime": {
     "end_time": "2025-02-06T23:03:20.816211Z",
     "start_time": "2025-02-06T23:03:20.813412Z"
    }
   },
   "cell_type": "code",
   "source": "",
   "id": "37d8c47115a5109b",
   "outputs": [],
   "execution_count": null
  },
  {
   "metadata": {},
   "cell_type": "code",
   "outputs": [],
   "execution_count": null,
   "source": "",
   "id": "e4480b2a4eafa000"
  }
 ],
 "metadata": {
  "kernelspec": {
   "display_name": "Python 3",
   "language": "python",
   "name": "python3"
  },
  "language_info": {
   "codemirror_mode": {
    "name": "ipython",
    "version": 2
   },
   "file_extension": ".py",
   "mimetype": "text/x-python",
   "name": "python",
   "nbconvert_exporter": "python",
   "pygments_lexer": "ipython2",
   "version": "2.7.6"
  }
 },
 "nbformat": 4,
 "nbformat_minor": 5
}
